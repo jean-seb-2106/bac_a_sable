{
 "cells": [
  {
   "cell_type": "code",
   "execution_count": 9,
   "id": "90bba8af",
   "metadata": {},
   "outputs": [],
   "source": [
    "import pandas as pd\n",
    "import numpy as np"
   ]
  },
  {
   "cell_type": "raw",
   "id": "5571be09",
   "metadata": {},
   "source": [
    "Import du fichier"
   ]
  },
  {
   "cell_type": "code",
   "execution_count": 10,
   "id": "390571ba",
   "metadata": {},
   "outputs": [],
   "source": [
    "prets = pd.read_csv('https://raw.githubusercontent.com/OpenClassrooms-Student-Center/fr-4452741-decouvrez-les-librairies-python-pour-la-data-science/main/data/prets.csv')"
   ]
  },
  {
   "cell_type": "markdown",
   "id": "23d709af",
   "metadata": {},
   "source": [
    "Le taux d’endettement autorisé est de 35 %. Pourriez-vous me communiquer le nombre de personnes ayant dépassé ce seuil ?\n",
    "\n",
    "Même question, mais cette fois-ci uniquement sur l’agence parisienne.\n",
    "\n",
    " Pour faciliter le traitement d’éventuelles futures demandes de prêts, pourriez-vous ajouter une variable nommée risque, qui nous permettrait d’identifier facilement les clients à risque ?\n",
    "\n",
    " Combien de prêts automobiles ont été accordés ? Quel est le coût total moyen de ceux-ci ?\n",
    "\n",
    " Quel est le bénéfice mensuel total réalisé par l’agence toulousaine ? "
   ]
  },
  {
   "cell_type": "code",
   "execution_count": 7,
   "id": "62be932a",
   "metadata": {},
   "outputs": [
    {
     "data": {
      "text/html": [
       "<div>\n",
       "<style scoped>\n",
       "    .dataframe tbody tr th:only-of-type {\n",
       "        vertical-align: middle;\n",
       "    }\n",
       "\n",
       "    .dataframe tbody tr th {\n",
       "        vertical-align: top;\n",
       "    }\n",
       "\n",
       "    .dataframe thead th {\n",
       "        text-align: right;\n",
       "    }\n",
       "</style>\n",
       "<table border=\"1\" class=\"dataframe\">\n",
       "  <thead>\n",
       "    <tr style=\"text-align: right;\">\n",
       "      <th></th>\n",
       "      <th>identifiant</th>\n",
       "      <th>ville</th>\n",
       "      <th>CP</th>\n",
       "      <th>revenu</th>\n",
       "      <th>remboursement</th>\n",
       "      <th>duree</th>\n",
       "      <th>type</th>\n",
       "      <th>taux</th>\n",
       "    </tr>\n",
       "  </thead>\n",
       "  <tbody>\n",
       "    <tr>\n",
       "      <th>0</th>\n",
       "      <td>0</td>\n",
       "      <td>TOULOUSE</td>\n",
       "      <td>31100</td>\n",
       "      <td>3669.0</td>\n",
       "      <td>1130.05</td>\n",
       "      <td>240</td>\n",
       "      <td>immobilier</td>\n",
       "      <td>1.168</td>\n",
       "    </tr>\n",
       "    <tr>\n",
       "      <th>1</th>\n",
       "      <td>1</td>\n",
       "      <td>PARIS</td>\n",
       "      <td>75009</td>\n",
       "      <td>5310.0</td>\n",
       "      <td>240.00</td>\n",
       "      <td>64</td>\n",
       "      <td>automobile</td>\n",
       "      <td>3.701</td>\n",
       "    </tr>\n",
       "    <tr>\n",
       "      <th>2</th>\n",
       "      <td>1</td>\n",
       "      <td>PARIS</td>\n",
       "      <td>75009</td>\n",
       "      <td>5310.0</td>\n",
       "      <td>1247.85</td>\n",
       "      <td>300</td>\n",
       "      <td>immobilier</td>\n",
       "      <td>1.173</td>\n",
       "    </tr>\n",
       "    <tr>\n",
       "      <th>3</th>\n",
       "      <td>2</td>\n",
       "      <td>MARSEILLE</td>\n",
       "      <td>13010</td>\n",
       "      <td>1873.0</td>\n",
       "      <td>552.54</td>\n",
       "      <td>240</td>\n",
       "      <td>immobilier</td>\n",
       "      <td>0.972</td>\n",
       "    </tr>\n",
       "    <tr>\n",
       "      <th>4</th>\n",
       "      <td>3</td>\n",
       "      <td>MARSEILLE</td>\n",
       "      <td>13010</td>\n",
       "      <td>1684.0</td>\n",
       "      <td>586.03</td>\n",
       "      <td>180</td>\n",
       "      <td>immobilier</td>\n",
       "      <td>1.014</td>\n",
       "    </tr>\n",
       "  </tbody>\n",
       "</table>\n",
       "</div>"
      ],
      "text/plain": [
       "   identifiant      ville     CP  revenu  remboursement  duree        type  \\\n",
       "0            0   TOULOUSE  31100  3669.0        1130.05    240  immobilier   \n",
       "1            1      PARIS  75009  5310.0         240.00     64  automobile   \n",
       "2            1      PARIS  75009  5310.0        1247.85    300  immobilier   \n",
       "3            2  MARSEILLE  13010  1873.0         552.54    240  immobilier   \n",
       "4            3  MARSEILLE  13010  1684.0         586.03    180  immobilier   \n",
       "\n",
       "    taux  \n",
       "0  1.168  \n",
       "1  3.701  \n",
       "2  1.173  \n",
       "3  0.972  \n",
       "4  1.014  "
      ]
     },
     "execution_count": 7,
     "metadata": {},
     "output_type": "execute_result"
    }
   ],
   "source": [
    "prets.head()"
   ]
  },
  {
   "cell_type": "code",
   "execution_count": 27,
   "id": "dfaab4de",
   "metadata": {},
   "outputs": [
    {
     "data": {
      "text/html": [
       "<div>\n",
       "<style scoped>\n",
       "    .dataframe tbody tr th:only-of-type {\n",
       "        vertical-align: middle;\n",
       "    }\n",
       "\n",
       "    .dataframe tbody tr th {\n",
       "        vertical-align: top;\n",
       "    }\n",
       "\n",
       "    .dataframe thead th {\n",
       "        text-align: right;\n",
       "    }\n",
       "</style>\n",
       "<table border=\"1\" class=\"dataframe\">\n",
       "  <thead>\n",
       "    <tr style=\"text-align: right;\">\n",
       "      <th></th>\n",
       "      <th>identifiant</th>\n",
       "      <th>ville</th>\n",
       "      <th>CP</th>\n",
       "      <th>revenu</th>\n",
       "      <th>remboursement</th>\n",
       "      <th>duree</th>\n",
       "      <th>type</th>\n",
       "      <th>taux</th>\n",
       "      <th>taux_endettement</th>\n",
       "    </tr>\n",
       "  </thead>\n",
       "  <tbody>\n",
       "    <tr>\n",
       "      <th>0</th>\n",
       "      <td>0</td>\n",
       "      <td>TOULOUSE</td>\n",
       "      <td>31100</td>\n",
       "      <td>3669.0</td>\n",
       "      <td>1130.05</td>\n",
       "      <td>240</td>\n",
       "      <td>immobilier</td>\n",
       "      <td>1.168</td>\n",
       "      <td>31.0</td>\n",
       "    </tr>\n",
       "    <tr>\n",
       "      <th>1</th>\n",
       "      <td>1</td>\n",
       "      <td>PARIS</td>\n",
       "      <td>75009</td>\n",
       "      <td>5310.0</td>\n",
       "      <td>240.00</td>\n",
       "      <td>64</td>\n",
       "      <td>automobile</td>\n",
       "      <td>3.701</td>\n",
       "      <td>5.0</td>\n",
       "    </tr>\n",
       "    <tr>\n",
       "      <th>2</th>\n",
       "      <td>1</td>\n",
       "      <td>PARIS</td>\n",
       "      <td>75009</td>\n",
       "      <td>5310.0</td>\n",
       "      <td>1247.85</td>\n",
       "      <td>300</td>\n",
       "      <td>immobilier</td>\n",
       "      <td>1.173</td>\n",
       "      <td>24.0</td>\n",
       "    </tr>\n",
       "    <tr>\n",
       "      <th>3</th>\n",
       "      <td>2</td>\n",
       "      <td>MARSEILLE</td>\n",
       "      <td>13010</td>\n",
       "      <td>1873.0</td>\n",
       "      <td>552.54</td>\n",
       "      <td>240</td>\n",
       "      <td>immobilier</td>\n",
       "      <td>0.972</td>\n",
       "      <td>30.0</td>\n",
       "    </tr>\n",
       "    <tr>\n",
       "      <th>4</th>\n",
       "      <td>3</td>\n",
       "      <td>MARSEILLE</td>\n",
       "      <td>13010</td>\n",
       "      <td>1684.0</td>\n",
       "      <td>586.03</td>\n",
       "      <td>180</td>\n",
       "      <td>immobilier</td>\n",
       "      <td>1.014</td>\n",
       "      <td>35.0</td>\n",
       "    </tr>\n",
       "  </tbody>\n",
       "</table>\n",
       "</div>"
      ],
      "text/plain": [
       "   identifiant      ville     CP  revenu  remboursement  duree        type  \\\n",
       "0            0   TOULOUSE  31100  3669.0        1130.05    240  immobilier   \n",
       "1            1      PARIS  75009  5310.0         240.00     64  automobile   \n",
       "2            1      PARIS  75009  5310.0        1247.85    300  immobilier   \n",
       "3            2  MARSEILLE  13010  1873.0         552.54    240  immobilier   \n",
       "4            3  MARSEILLE  13010  1684.0         586.03    180  immobilier   \n",
       "\n",
       "    taux  taux_endettement  \n",
       "0  1.168              31.0  \n",
       "1  3.701               5.0  \n",
       "2  1.173              24.0  \n",
       "3  0.972              30.0  \n",
       "4  1.014              35.0  "
      ]
     },
     "execution_count": 27,
     "metadata": {},
     "output_type": "execute_result"
    }
   ],
   "source": [
    "#par défaut, arrondissement à un chiffre après la virgule\n",
    "#Création de la variable taux d'endettement\n",
    "prets[\"taux_endettement\"] = round(prets[\"remboursement\"]/prets[\"revenu\"]*100)\n",
    "prets.head()"
   ]
  },
  {
   "cell_type": "code",
   "execution_count": 30,
   "id": "dd237388",
   "metadata": {},
   "outputs": [
    {
     "data": {
      "text/plain": [
       "55"
      ]
     },
     "execution_count": 30,
     "metadata": {},
     "output_type": "execute_result"
    }
   ],
   "source": [
    "prets.loc[prets[\"taux_endettement\"] > 35,:].shape[0]"
   ]
  },
  {
   "cell_type": "code",
   "execution_count": 33,
   "id": "bd7dd72f",
   "metadata": {},
   "outputs": [
    {
     "data": {
      "text/plain": [
       "16"
      ]
     },
     "execution_count": 33,
     "metadata": {},
     "output_type": "execute_result"
    }
   ],
   "source": [
    "prets.loc[(prets[\"taux_endettement\"] > 35) & (prets[\"ville\"] == \"PARIS\") ,:].shape[0]"
   ]
  },
  {
   "cell_type": "code",
   "execution_count": 44,
   "id": "e9dafd10",
   "metadata": {},
   "outputs": [
    {
     "data": {
      "text/html": [
       "<div>\n",
       "<style scoped>\n",
       "    .dataframe tbody tr th:only-of-type {\n",
       "        vertical-align: middle;\n",
       "    }\n",
       "\n",
       "    .dataframe tbody tr th {\n",
       "        vertical-align: top;\n",
       "    }\n",
       "\n",
       "    .dataframe thead th {\n",
       "        text-align: right;\n",
       "    }\n",
       "</style>\n",
       "<table border=\"1\" class=\"dataframe\">\n",
       "  <thead>\n",
       "    <tr style=\"text-align: right;\">\n",
       "      <th></th>\n",
       "      <th>identifiant</th>\n",
       "      <th>ville</th>\n",
       "      <th>CP</th>\n",
       "      <th>revenu</th>\n",
       "      <th>remboursement</th>\n",
       "      <th>duree</th>\n",
       "      <th>type</th>\n",
       "      <th>taux</th>\n",
       "      <th>taux_endettement</th>\n",
       "      <th>risque</th>\n",
       "    </tr>\n",
       "  </thead>\n",
       "  <tbody>\n",
       "    <tr>\n",
       "      <th>0</th>\n",
       "      <td>0</td>\n",
       "      <td>TOULOUSE</td>\n",
       "      <td>31100</td>\n",
       "      <td>3669.0</td>\n",
       "      <td>1130.05</td>\n",
       "      <td>240</td>\n",
       "      <td>immobilier</td>\n",
       "      <td>1.168</td>\n",
       "      <td>31.0</td>\n",
       "      <td>NON</td>\n",
       "    </tr>\n",
       "    <tr>\n",
       "      <th>1</th>\n",
       "      <td>1</td>\n",
       "      <td>PARIS</td>\n",
       "      <td>75009</td>\n",
       "      <td>5310.0</td>\n",
       "      <td>240.00</td>\n",
       "      <td>64</td>\n",
       "      <td>automobile</td>\n",
       "      <td>3.701</td>\n",
       "      <td>5.0</td>\n",
       "      <td>NON</td>\n",
       "    </tr>\n",
       "    <tr>\n",
       "      <th>2</th>\n",
       "      <td>1</td>\n",
       "      <td>PARIS</td>\n",
       "      <td>75009</td>\n",
       "      <td>5310.0</td>\n",
       "      <td>1247.85</td>\n",
       "      <td>300</td>\n",
       "      <td>immobilier</td>\n",
       "      <td>1.173</td>\n",
       "      <td>24.0</td>\n",
       "      <td>NON</td>\n",
       "    </tr>\n",
       "    <tr>\n",
       "      <th>3</th>\n",
       "      <td>2</td>\n",
       "      <td>MARSEILLE</td>\n",
       "      <td>13010</td>\n",
       "      <td>1873.0</td>\n",
       "      <td>552.54</td>\n",
       "      <td>240</td>\n",
       "      <td>immobilier</td>\n",
       "      <td>0.972</td>\n",
       "      <td>30.0</td>\n",
       "      <td>NON</td>\n",
       "    </tr>\n",
       "    <tr>\n",
       "      <th>4</th>\n",
       "      <td>3</td>\n",
       "      <td>MARSEILLE</td>\n",
       "      <td>13010</td>\n",
       "      <td>1684.0</td>\n",
       "      <td>586.03</td>\n",
       "      <td>180</td>\n",
       "      <td>immobilier</td>\n",
       "      <td>1.014</td>\n",
       "      <td>35.0</td>\n",
       "      <td>NON</td>\n",
       "    </tr>\n",
       "  </tbody>\n",
       "</table>\n",
       "</div>"
      ],
      "text/plain": [
       "   identifiant      ville     CP  revenu  remboursement  duree        type  \\\n",
       "0            0   TOULOUSE  31100  3669.0        1130.05    240  immobilier   \n",
       "1            1      PARIS  75009  5310.0         240.00     64  automobile   \n",
       "2            1      PARIS  75009  5310.0        1247.85    300  immobilier   \n",
       "3            2  MARSEILLE  13010  1873.0         552.54    240  immobilier   \n",
       "4            3  MARSEILLE  13010  1684.0         586.03    180  immobilier   \n",
       "\n",
       "    taux  taux_endettement risque  \n",
       "0  1.168              31.0    NON  \n",
       "1  3.701               5.0    NON  \n",
       "2  1.173              24.0    NON  \n",
       "3  0.972              30.0    NON  \n",
       "4  1.014              35.0    NON  "
      ]
     },
     "execution_count": 44,
     "metadata": {},
     "output_type": "execute_result"
    }
   ],
   "source": [
    "prets[\"risque\"] = \"NON\"\n",
    "prets.head()"
   ]
  },
  {
   "cell_type": "code",
   "execution_count": 46,
   "id": "de371a2b",
   "metadata": {},
   "outputs": [
    {
     "data": {
      "text/html": [
       "<div>\n",
       "<style scoped>\n",
       "    .dataframe tbody tr th:only-of-type {\n",
       "        vertical-align: middle;\n",
       "    }\n",
       "\n",
       "    .dataframe tbody tr th {\n",
       "        vertical-align: top;\n",
       "    }\n",
       "\n",
       "    .dataframe thead th {\n",
       "        text-align: right;\n",
       "    }\n",
       "</style>\n",
       "<table border=\"1\" class=\"dataframe\">\n",
       "  <thead>\n",
       "    <tr style=\"text-align: right;\">\n",
       "      <th></th>\n",
       "      <th>identifiant</th>\n",
       "      <th>ville</th>\n",
       "      <th>CP</th>\n",
       "      <th>revenu</th>\n",
       "      <th>remboursement</th>\n",
       "      <th>duree</th>\n",
       "      <th>type</th>\n",
       "      <th>taux</th>\n",
       "      <th>taux_endettement</th>\n",
       "      <th>risque</th>\n",
       "    </tr>\n",
       "  </thead>\n",
       "  <tbody>\n",
       "    <tr>\n",
       "      <th>0</th>\n",
       "      <td>0</td>\n",
       "      <td>TOULOUSE</td>\n",
       "      <td>31100</td>\n",
       "      <td>3669.0</td>\n",
       "      <td>1130.05</td>\n",
       "      <td>240</td>\n",
       "      <td>immobilier</td>\n",
       "      <td>1.168</td>\n",
       "      <td>31.0</td>\n",
       "      <td>NON</td>\n",
       "    </tr>\n",
       "    <tr>\n",
       "      <th>1</th>\n",
       "      <td>1</td>\n",
       "      <td>PARIS</td>\n",
       "      <td>75009</td>\n",
       "      <td>5310.0</td>\n",
       "      <td>240.00</td>\n",
       "      <td>64</td>\n",
       "      <td>automobile</td>\n",
       "      <td>3.701</td>\n",
       "      <td>5.0</td>\n",
       "      <td>NON</td>\n",
       "    </tr>\n",
       "    <tr>\n",
       "      <th>2</th>\n",
       "      <td>1</td>\n",
       "      <td>PARIS</td>\n",
       "      <td>75009</td>\n",
       "      <td>5310.0</td>\n",
       "      <td>1247.85</td>\n",
       "      <td>300</td>\n",
       "      <td>immobilier</td>\n",
       "      <td>1.173</td>\n",
       "      <td>24.0</td>\n",
       "      <td>NON</td>\n",
       "    </tr>\n",
       "    <tr>\n",
       "      <th>3</th>\n",
       "      <td>2</td>\n",
       "      <td>MARSEILLE</td>\n",
       "      <td>13010</td>\n",
       "      <td>1873.0</td>\n",
       "      <td>552.54</td>\n",
       "      <td>240</td>\n",
       "      <td>immobilier</td>\n",
       "      <td>0.972</td>\n",
       "      <td>30.0</td>\n",
       "      <td>NON</td>\n",
       "    </tr>\n",
       "    <tr>\n",
       "      <th>4</th>\n",
       "      <td>3</td>\n",
       "      <td>MARSEILLE</td>\n",
       "      <td>13010</td>\n",
       "      <td>1684.0</td>\n",
       "      <td>586.03</td>\n",
       "      <td>180</td>\n",
       "      <td>immobilier</td>\n",
       "      <td>1.014</td>\n",
       "      <td>35.0</td>\n",
       "      <td>NON</td>\n",
       "    </tr>\n",
       "  </tbody>\n",
       "</table>\n",
       "</div>"
      ],
      "text/plain": [
       "   identifiant      ville     CP  revenu  remboursement  duree        type  \\\n",
       "0            0   TOULOUSE  31100  3669.0        1130.05    240  immobilier   \n",
       "1            1      PARIS  75009  5310.0         240.00     64  automobile   \n",
       "2            1      PARIS  75009  5310.0        1247.85    300  immobilier   \n",
       "3            2  MARSEILLE  13010  1873.0         552.54    240  immobilier   \n",
       "4            3  MARSEILLE  13010  1684.0         586.03    180  immobilier   \n",
       "\n",
       "    taux  taux_endettement risque  \n",
       "0  1.168              31.0    NON  \n",
       "1  3.701               5.0    NON  \n",
       "2  1.173              24.0    NON  \n",
       "3  0.972              30.0    NON  \n",
       "4  1.014              35.0    NON  "
      ]
     },
     "execution_count": 46,
     "metadata": {},
     "output_type": "execute_result"
    }
   ],
   "source": [
    "prets.loc[prets[\"taux_endettement\"]>35,\"risque\"] = \"OUI\"\n",
    "prets.head()"
   ]
  },
  {
   "cell_type": "code",
   "execution_count": 52,
   "id": "ebfb4c7a",
   "metadata": {},
   "outputs": [
    {
     "name": "stdout",
     "output_type": "stream",
     "text": [
      "il y a 16 prêts auto accordés\n"
     ]
    }
   ],
   "source": [
    "prets_auto = prets.loc[prets[\"type\"]==\"automobile\",:]\n",
    "print(\"il y a\",prets_auto.shape[0],\"prêts auto accordés\")"
   ]
  },
  {
   "cell_type": "code",
   "execution_count": 57,
   "id": "0bdbf4fc",
   "metadata": {},
   "outputs": [
    {
     "name": "stdout",
     "output_type": "stream",
     "text": [
      "en moyenne, les taux des prêts auto s'élèvent à  3.304 €\n"
     ]
    }
   ],
   "source": [
    "print(\"en moyenne, les taux des prêts auto s'élèvent à \",prets_auto[\"taux\"].mean().round(3),\"€\")"
   ]
  },
  {
   "cell_type": "code",
   "execution_count": 61,
   "id": "84635f8a",
   "metadata": {},
   "outputs": [
    {
     "name": "stdout",
     "output_type": "stream",
     "text": [
      "75617.0\n"
     ]
    }
   ],
   "source": [
    "rbst_toulouse = prets.loc[prets[\"ville\"]==\"TOULOUSE\",\"revenu\"].sum()\n",
    "print(rbst_toulouse)"
   ]
  },
  {
   "cell_type": "code",
   "execution_count": 70,
   "id": "974204bc",
   "metadata": {
    "scrolled": true
   },
   "outputs": [
    {
     "data": {
      "text/plain": [
       "ville\n",
       "BORDEAUX     15330.59\n",
       "LYON         26064.67\n",
       "MARSEILLE    40895.72\n",
       "NICE         23544.24\n",
       "PARIS        94052.61\n",
       "TOULOUSE     19286.18\n",
       "Name: remboursement, dtype: float64"
      ]
     },
     "execution_count": 70,
     "metadata": {},
     "output_type": "execute_result"
    }
   ],
   "source": [
    "prets.groupby(\"ville\")[\"remboursement\"].sum()"
   ]
  },
  {
   "cell_type": "code",
   "execution_count": 71,
   "id": "62a2cf8a",
   "metadata": {},
   "outputs": [
    {
     "data": {
      "text/html": [
       "<div>\n",
       "<style scoped>\n",
       "    .dataframe tbody tr th:only-of-type {\n",
       "        vertical-align: middle;\n",
       "    }\n",
       "\n",
       "    .dataframe tbody tr th {\n",
       "        vertical-align: top;\n",
       "    }\n",
       "\n",
       "    .dataframe thead tr th {\n",
       "        text-align: left;\n",
       "    }\n",
       "\n",
       "    .dataframe thead tr:last-of-type th {\n",
       "        text-align: right;\n",
       "    }\n",
       "</style>\n",
       "<table border=\"1\" class=\"dataframe\">\n",
       "  <thead>\n",
       "    <tr>\n",
       "      <th></th>\n",
       "      <th colspan=\"2\" halign=\"left\">remboursement</th>\n",
       "      <th>taux</th>\n",
       "    </tr>\n",
       "    <tr>\n",
       "      <th></th>\n",
       "      <th>mean</th>\n",
       "      <th>sum</th>\n",
       "      <th>mean</th>\n",
       "    </tr>\n",
       "    <tr>\n",
       "      <th>ville</th>\n",
       "      <th></th>\n",
       "      <th></th>\n",
       "      <th></th>\n",
       "    </tr>\n",
       "  </thead>\n",
       "  <tbody>\n",
       "    <tr>\n",
       "      <th>BORDEAUX</th>\n",
       "      <td>958.161875</td>\n",
       "      <td>15330.59</td>\n",
       "      <td>1.172937</td>\n",
       "    </tr>\n",
       "    <tr>\n",
       "      <th>LYON</th>\n",
       "      <td>930.881071</td>\n",
       "      <td>26064.67</td>\n",
       "      <td>1.389929</td>\n",
       "    </tr>\n",
       "    <tr>\n",
       "      <th>MARSEILLE</th>\n",
       "      <td>545.276267</td>\n",
       "      <td>40895.72</td>\n",
       "      <td>1.233840</td>\n",
       "    </tr>\n",
       "    <tr>\n",
       "      <th>NICE</th>\n",
       "      <td>1121.154286</td>\n",
       "      <td>23544.24</td>\n",
       "      <td>1.319333</td>\n",
       "    </tr>\n",
       "    <tr>\n",
       "      <th>PARIS</th>\n",
       "      <td>1221.462468</td>\n",
       "      <td>94052.61</td>\n",
       "      <td>1.299649</td>\n",
       "    </tr>\n",
       "    <tr>\n",
       "      <th>TOULOUSE</th>\n",
       "      <td>714.302963</td>\n",
       "      <td>19286.18</td>\n",
       "      <td>1.415444</td>\n",
       "    </tr>\n",
       "  </tbody>\n",
       "</table>\n",
       "</div>"
      ],
      "text/plain": [
       "          remboursement                taux\n",
       "                   mean       sum      mean\n",
       "ville                                      \n",
       "BORDEAUX     958.161875  15330.59  1.172937\n",
       "LYON         930.881071  26064.67  1.389929\n",
       "MARSEILLE    545.276267  40895.72  1.233840\n",
       "NICE        1121.154286  23544.24  1.319333\n",
       "PARIS       1221.462468  94052.61  1.299649\n",
       "TOULOUSE     714.302963  19286.18  1.415444"
      ]
     },
     "execution_count": 71,
     "metadata": {},
     "output_type": "execute_result"
    }
   ],
   "source": [
    "prets.groupby(\"ville\").agg({\"remboursement\": [\"mean\",\"sum\"],\n",
    "                           \"taux\": \"mean\"})"
   ]
  }
 ],
 "metadata": {
  "kernelspec": {
   "display_name": "Python 3 (ipykernel)",
   "language": "python",
   "name": "python3"
  },
  "language_info": {
   "codemirror_mode": {
    "name": "ipython",
    "version": 3
   },
   "file_extension": ".py",
   "mimetype": "text/x-python",
   "name": "python",
   "nbconvert_exporter": "python",
   "pygments_lexer": "ipython3",
   "version": "3.10.9"
  }
 },
 "nbformat": 4,
 "nbformat_minor": 5
}
